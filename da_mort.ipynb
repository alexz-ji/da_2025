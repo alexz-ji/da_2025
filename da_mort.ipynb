{
 "cells": [
  {
   "cell_type": "code",
   "id": "initial_id",
   "metadata": {
    "collapsed": true,
    "ExecuteTime": {
     "end_time": "2025-03-28T10:26:22.830704Z",
     "start_time": "2025-03-28T10:26:22.821147Z"
    }
   },
   "source": "import polars as pl",
   "outputs": [],
   "execution_count": 5
  },
  {
   "metadata": {},
   "cell_type": "markdown",
   "source": [
    "### Data Dictionary\n",
    "- event: Mortality event - whether the member was known to be alive (0) or deceased (1)\n",
    "- starting_age: Age when member started being observed\n",
    "- gender: Biological sex of the member (male/female)\n",
    "- bmi: Body Mass Index\n",
    "- emp_status: Member's employment status\n",
    "- ratio: Ratio of household income to the poverty threshold\n",
    "- bpdiastolic: Average diastolic blood pressure\n",
    "- bpsystolic: Average systolic blood pressure\n",
    "- ever_highbp: Ever told you had high blood pressure.\n",
    "- glyhem: Glycated hemoglobin (HbA1c)\n",
    "- cholsrm: Total cholesterol level\n",
    "- ever_highchol: Ever told you had high cholesterol\n",
    "- smkrage: Age when member started smoking regularly\n",
    "- hospstay: Had overnight hospital stay in last 12 months\n",
    "- obs_years: number of observation years since starting_age\n",
    "\n",
    "All columns (other than event and obs_years) were recorded at the time of starting_age."
   ],
   "id": "46ed9955d3f858df"
  },
  {
   "metadata": {
    "ExecuteTime": {
     "end_time": "2025-03-28T10:26:22.857088Z",
     "start_time": "2025-03-28T10:26:22.840837Z"
    }
   },
   "cell_type": "code",
   "source": [
    "raw_source_data = pl.read_csv(\"data.csv\", use_pyarrow=True)\n",
    "raw_source_data"
   ],
   "id": "494c72dc679932dc",
   "outputs": [
    {
     "data": {
      "text/plain": [
       "shape: (5_610, 15)\n",
       "┌───────┬──────────────┬────────┬───────┬───┬───────────────┬─────────┬──────────┬───────────┐\n",
       "│ event ┆ starting_age ┆ gender ┆ bmi   ┆ … ┆ ever_highchol ┆ smkrage ┆ hospstay ┆ obs_years │\n",
       "│ ---   ┆ ---          ┆ ---    ┆ ---   ┆   ┆ ---           ┆ ---     ┆ ---      ┆ ---       │\n",
       "│ i64   ┆ i64          ┆ i64    ┆ f64   ┆   ┆ i64           ┆ i64     ┆ i64      ┆ i64       │\n",
       "╞═══════╪══════════════╪════════╪═══════╪═══╪═══════════════╪═════════╪══════════╪═══════════╡\n",
       "│ 0     ┆ 19           ┆ 1      ┆ 50.85 ┆ … ┆ 8             ┆ null    ┆ 2        ┆ 9         │\n",
       "│ 0     ┆ 55           ┆ 1      ┆ 31.26 ┆ … ┆ 9             ┆ null    ┆ 2        ┆ 9         │\n",
       "│ 0     ┆ 52           ┆ 2      ┆ 25.49 ┆ … ┆ 2             ┆ 16      ┆ 2        ┆ 10        │\n",
       "│ 1     ┆ 63           ┆ 1      ┆ 19.6  ┆ … ┆ 2             ┆ 13      ┆ 2        ┆ 10        │\n",
       "│ 1     ┆ 80           ┆ 1      ┆ 28.32 ┆ … ┆ 2             ┆ 19      ┆ 2        ┆ 10        │\n",
       "│ …     ┆ …            ┆ …      ┆ …     ┆ … ┆ …             ┆ …       ┆ …        ┆ …         │\n",
       "│ 0     ┆ 23           ┆ 1      ┆ 26.13 ┆ … ┆ 8             ┆ null    ┆ 2        ┆ 6         │\n",
       "│ 0     ┆ 68           ┆ 2      ┆ 29.05 ┆ … ┆ 2             ┆ null    ┆ 2        ┆ 9         │\n",
       "│ 0     ┆ 80           ┆ 2      ┆ 23.47 ┆ … ┆ 2             ┆ null    ┆ 1        ┆ 9         │\n",
       "│ 0     ┆ 44           ┆ 1      ┆ 29.83 ┆ … ┆ 8             ┆ 15      ┆ 2        ┆ 4         │\n",
       "│ 1     ┆ 54           ┆ 1      ┆ 37.66 ┆ … ┆ 1             ┆ 19      ┆ 2        ┆ 10        │\n",
       "└───────┴──────────────┴────────┴───────┴───┴───────────────┴─────────┴──────────┴───────────┘"
      ],
      "text/html": [
       "<div><style>\n",
       ".dataframe > thead > tr,\n",
       ".dataframe > tbody > tr {\n",
       "  text-align: right;\n",
       "  white-space: pre-wrap;\n",
       "}\n",
       "</style>\n",
       "<small>shape: (5_610, 15)</small><table border=\"1\" class=\"dataframe\"><thead><tr><th>event</th><th>starting_age</th><th>gender</th><th>bmi</th><th>emp_status</th><th>ratio</th><th>bpdiastolic</th><th>bpsystolic</th><th>ever_highbp</th><th>glyhem</th><th>cholsrm</th><th>ever_highchol</th><th>smkrage</th><th>hospstay</th><th>obs_years</th></tr><tr><td>i64</td><td>i64</td><td>i64</td><td>f64</td><td>i64</td><td>f64</td><td>f64</td><td>f64</td><td>i64</td><td>f64</td><td>i64</td><td>i64</td><td>i64</td><td>i64</td><td>i64</td></tr></thead><tbody><tr><td>0</td><td>19</td><td>1</td><td>50.85</td><td>8</td><td>2.44</td><td>null</td><td>null</td><td>2</td><td>5.4</td><td>190</td><td>8</td><td>null</td><td>2</td><td>9</td></tr><tr><td>0</td><td>55</td><td>1</td><td>31.26</td><td>3</td><td>3.79</td><td>86.0</td><td>120.0</td><td>2</td><td>5.9</td><td>262</td><td>9</td><td>null</td><td>2</td><td>9</td></tr><tr><td>0</td><td>52</td><td>2</td><td>25.49</td><td>8</td><td>1.24</td><td>84.0</td><td>133.333333</td><td>2</td><td>5.5</td><td>180</td><td>2</td><td>16</td><td>2</td><td>10</td></tr><tr><td>1</td><td>63</td><td>1</td><td>19.6</td><td>8</td><td>0.89</td><td>999.0</td><td>122.666667</td><td>2</td><td>4.8</td><td>190</td><td>2</td><td>13</td><td>2</td><td>10</td></tr><tr><td>1</td><td>80</td><td>1</td><td>28.32</td><td>8</td><td>1.2</td><td>54.0</td><td>154.0</td><td>2</td><td>5.0</td><td>149</td><td>2</td><td>19</td><td>2</td><td>10</td></tr><tr><td>&hellip;</td><td>&hellip;</td><td>&hellip;</td><td>&hellip;</td><td>&hellip;</td><td>&hellip;</td><td>&hellip;</td><td>&hellip;</td><td>&hellip;</td><td>&hellip;</td><td>&hellip;</td><td>&hellip;</td><td>&hellip;</td><td>&hellip;</td><td>&hellip;</td></tr><tr><td>0</td><td>23</td><td>1</td><td>26.13</td><td>1</td><td>3.93</td><td>74.0</td><td>124.0</td><td>2</td><td>5.6</td><td>220</td><td>8</td><td>null</td><td>2</td><td>6</td></tr><tr><td>0</td><td>68</td><td>2</td><td>29.05</td><td>1</td><td>2.08</td><td>5.4000e-79</td><td>134.0</td><td>1</td><td>5.9</td><td>207</td><td>2</td><td>null</td><td>2</td><td>9</td></tr><tr><td>0</td><td>80</td><td>2</td><td>23.47</td><td>8</td><td>8.0</td><td>51.0</td><td>146.0</td><td>1</td><td>5.3</td><td>270</td><td>2</td><td>null</td><td>1</td><td>9</td></tr><tr><td>0</td><td>44</td><td>1</td><td>29.83</td><td>1</td><td>3.93</td><td>92.0</td><td>151.333333</td><td>2</td><td>5.6</td><td>298</td><td>8</td><td>15</td><td>2</td><td>4</td></tr><tr><td>1</td><td>54</td><td>1</td><td>37.66</td><td>1</td><td>5.0</td><td>62.0</td><td>114.0</td><td>1</td><td>5.3</td><td>165</td><td>1</td><td>19</td><td>2</td><td>10</td></tr></tbody></table></div>"
      ]
     },
     "execution_count": 6,
     "metadata": {},
     "output_type": "execute_result"
    }
   ],
   "execution_count": 6
  },
  {
   "metadata": {
    "ExecuteTime": {
     "end_time": "2025-03-28T10:26:22.911721Z",
     "start_time": "2025-03-28T10:26:22.893237Z"
    }
   },
   "cell_type": "code",
   "source": [
    "std_tbl_1418 = pl.read_csv(\"FSC_KPMG_ALS_14_18.csv\", use_pyarrow=True)\n",
    "std_tbl_1418"
   ],
   "id": "f1aa19c99051f82",
   "outputs": [
    {
     "data": {
      "text/plain": [
       "shape: (101, 7)\n",
       "┌──────────────────────┬───────────┬───────────┬───────────┬───────────┬───────────┬────────────┐\n",
       "│ Age last bd last pol ┆ Male_NS   ┆ Male_S    ┆ Male_Unk  ┆ Female_NS ┆ Female_S  ┆ Female_Unk │\n",
       "│ anniversa…           ┆ ---       ┆ ---       ┆ ---       ┆ ---       ┆ ---       ┆ ---        │\n",
       "│ ---                  ┆ f64       ┆ f64       ┆ f64       ┆ f64       ┆ f64       ┆ f64        │\n",
       "│ i64                  ┆           ┆           ┆           ┆           ┆           ┆            │\n",
       "╞══════════════════════╪═══════════╪═══════════╪═══════════╪═══════════╪═══════════╪════════════╡\n",
       "│ 0                    ┆ 0.0012753 ┆ 0.0012753 ┆ 0.0012753 ┆ 0.0010833 ┆ 0.0010833 ┆ 0.0010833  │\n",
       "│ 1                    ┆ 0.000149  ┆ 0.000149  ┆ 0.000149  ┆ 0.000126  ┆ 0.000126  ┆ 0.000126   │\n",
       "│ 2                    ┆ 0.000102  ┆ 0.000102  ┆ 0.000102  ┆ 0.00008   ┆ 0.00008   ┆ 0.00008    │\n",
       "│ 3                    ┆ 0.000079  ┆ 0.000079  ┆ 0.000079  ┆ 0.000058  ┆ 0.000058  ┆ 0.000058   │\n",
       "│ 4                    ┆ 0.000063  ┆ 0.000063  ┆ 0.000063  ┆ 0.000053  ┆ 0.000053  ┆ 0.000053   │\n",
       "│ …                    ┆ …         ┆ …         ┆ …         ┆ …         ┆ …         ┆ …          │\n",
       "│ 96                   ┆ 0.17314   ┆ 0.17314   ┆ 0.17314   ┆ 0.1623    ┆ 0.1623    ┆ 0.1623     │\n",
       "│ 97                   ┆ 0.1841    ┆ 0.1841    ┆ 0.1841    ┆ 0.17698   ┆ 0.17698   ┆ 0.17698    │\n",
       "│ 98                   ┆ 0.19517   ┆ 0.19517   ┆ 0.19517   ┆ 0.1922    ┆ 0.1922    ┆ 0.1922     │\n",
       "│ 99                   ┆ 0.20632   ┆ 0.20632   ┆ 0.20632   ┆ 0.20788   ┆ 0.20788   ┆ 0.20788    │\n",
       "│ 100                  ┆ 0.21752   ┆ 0.21752   ┆ 0.21752   ┆ 0.22392   ┆ 0.22392   ┆ 0.22392    │\n",
       "└──────────────────────┴───────────┴───────────┴───────────┴───────────┴───────────┴────────────┘"
      ],
      "text/html": [
       "<div><style>\n",
       ".dataframe > thead > tr,\n",
       ".dataframe > tbody > tr {\n",
       "  text-align: right;\n",
       "  white-space: pre-wrap;\n",
       "}\n",
       "</style>\n",
       "<small>shape: (101, 7)</small><table border=\"1\" class=\"dataframe\"><thead><tr><th>Age last bd last pol anniversary</th><th>Male_NS</th><th>Male_S</th><th>Male_Unk</th><th>Female_NS</th><th>Female_S</th><th>Female_Unk</th></tr><tr><td>i64</td><td>f64</td><td>f64</td><td>f64</td><td>f64</td><td>f64</td><td>f64</td></tr></thead><tbody><tr><td>0</td><td>0.0012753</td><td>0.0012753</td><td>0.0012753</td><td>0.0010833</td><td>0.0010833</td><td>0.0010833</td></tr><tr><td>1</td><td>0.000149</td><td>0.000149</td><td>0.000149</td><td>0.000126</td><td>0.000126</td><td>0.000126</td></tr><tr><td>2</td><td>0.000102</td><td>0.000102</td><td>0.000102</td><td>0.00008</td><td>0.00008</td><td>0.00008</td></tr><tr><td>3</td><td>0.000079</td><td>0.000079</td><td>0.000079</td><td>0.000058</td><td>0.000058</td><td>0.000058</td></tr><tr><td>4</td><td>0.000063</td><td>0.000063</td><td>0.000063</td><td>0.000053</td><td>0.000053</td><td>0.000053</td></tr><tr><td>&hellip;</td><td>&hellip;</td><td>&hellip;</td><td>&hellip;</td><td>&hellip;</td><td>&hellip;</td><td>&hellip;</td></tr><tr><td>96</td><td>0.17314</td><td>0.17314</td><td>0.17314</td><td>0.1623</td><td>0.1623</td><td>0.1623</td></tr><tr><td>97</td><td>0.1841</td><td>0.1841</td><td>0.1841</td><td>0.17698</td><td>0.17698</td><td>0.17698</td></tr><tr><td>98</td><td>0.19517</td><td>0.19517</td><td>0.19517</td><td>0.1922</td><td>0.1922</td><td>0.1922</td></tr><tr><td>99</td><td>0.20632</td><td>0.20632</td><td>0.20632</td><td>0.20788</td><td>0.20788</td><td>0.20788</td></tr><tr><td>100</td><td>0.21752</td><td>0.21752</td><td>0.21752</td><td>0.22392</td><td>0.22392</td><td>0.22392</td></tr></tbody></table></div>"
      ]
     },
     "execution_count": 7,
     "metadata": {},
     "output_type": "execute_result"
    }
   ],
   "execution_count": 7
  }
 ],
 "metadata": {
  "kernelspec": {
   "display_name": "Python 3",
   "language": "python",
   "name": "python3"
  },
  "language_info": {
   "codemirror_mode": {
    "name": "ipython",
    "version": 2
   },
   "file_extension": ".py",
   "mimetype": "text/x-python",
   "name": "python",
   "nbconvert_exporter": "python",
   "pygments_lexer": "ipython2",
   "version": "2.7.6"
  }
 },
 "nbformat": 4,
 "nbformat_minor": 5
}
